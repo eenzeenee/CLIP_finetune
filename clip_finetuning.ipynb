{
 "cells": [
  {
   "cell_type": "markdown",
   "metadata": {},
   "source": [
    "# clip finetuning with Korean Montage dataset\n",
    "\n",
    "## Pretrained Model\n",
    "[koclip/koclip-base-pt](https://huggingface.co/koclip/koclip-base-pt)\n",
    "\n",
    "## Dataset\n",
    "[페르소나 기반의 가상 인물 몽타주 데이터](https://www.aihub.or.kr/aihubdata/data/view.do?currMenu=115&topMenu=100&aihubDataSe=realm&dataSetSn=618)"
   ]
  },
  {
   "cell_type": "code",
   "execution_count": 1,
   "metadata": {},
   "outputs": [
    {
     "name": "stdout",
     "output_type": "stream",
     "text": [
      "Requirement already satisfied: ftfy in /Users/eenzeenee/opt/anaconda3/lib/python3.9/site-packages (6.1.1)\n",
      "Requirement already satisfied: regex in /Users/eenzeenee/opt/anaconda3/lib/python3.9/site-packages (2022.3.15)\n",
      "Requirement already satisfied: tqdm in /Users/eenzeenee/opt/anaconda3/lib/python3.9/site-packages (4.64.0)\n",
      "Requirement already satisfied: wcwidth>=0.2.5 in /Users/eenzeenee/opt/anaconda3/lib/python3.9/site-packages (from ftfy) (0.2.5)\n",
      "Collecting git+https://github.com/openai/CLIP.git\n",
      "  Cloning https://github.com/openai/CLIP.git to /private/var/folders/kt/d6fj76bx5ljfc9cjlml7dl5w0000gn/T/pip-req-build-m8y13tq4\n",
      "  Running command git clone -q https://github.com/openai/CLIP.git /private/var/folders/kt/d6fj76bx5ljfc9cjlml7dl5w0000gn/T/pip-req-build-m8y13tq4\n",
      "  Resolved https://github.com/openai/CLIP.git to commit a1d071733d7111c9c014f024669f959182114e33\n",
      "Requirement already satisfied: ftfy in /Users/eenzeenee/opt/anaconda3/lib/python3.9/site-packages (from clip==1.0) (6.1.1)\n",
      "Requirement already satisfied: regex in /Users/eenzeenee/opt/anaconda3/lib/python3.9/site-packages (from clip==1.0) (2022.3.15)\n",
      "Requirement already satisfied: tqdm in /Users/eenzeenee/opt/anaconda3/lib/python3.9/site-packages (from clip==1.0) (4.64.0)\n",
      "Requirement already satisfied: torch in /Users/eenzeenee/opt/anaconda3/lib/python3.9/site-packages (from clip==1.0) (1.7.1)\n",
      "Requirement already satisfied: torchvision in /Users/eenzeenee/opt/anaconda3/lib/python3.9/site-packages (from clip==1.0) (0.8.2)\n",
      "Requirement already satisfied: wcwidth>=0.2.5 in /Users/eenzeenee/opt/anaconda3/lib/python3.9/site-packages (from ftfy->clip==1.0) (0.2.5)\n",
      "Requirement already satisfied: typing-extensions in /Users/eenzeenee/opt/anaconda3/lib/python3.9/site-packages (from torch->clip==1.0) (4.1.1)\n",
      "Requirement already satisfied: numpy in /Users/eenzeenee/opt/anaconda3/lib/python3.9/site-packages (from torch->clip==1.0) (1.21.5)\n",
      "Requirement already satisfied: pillow>=4.1.1 in /Users/eenzeenee/opt/anaconda3/lib/python3.9/site-packages (from torchvision->clip==1.0) (9.0.1)\n",
      "Requirement already satisfied: datasets in /Users/eenzeenee/opt/anaconda3/lib/python3.9/site-packages (2.14.5)\n",
      "Requirement already satisfied: aiohttp in /Users/eenzeenee/opt/anaconda3/lib/python3.9/site-packages (from datasets) (3.8.1)\n",
      "Requirement already satisfied: dill<0.3.8,>=0.3.0 in /Users/eenzeenee/opt/anaconda3/lib/python3.9/site-packages (from datasets) (0.3.7)\n",
      "Requirement already satisfied: huggingface-hub<1.0.0,>=0.14.0 in /Users/eenzeenee/opt/anaconda3/lib/python3.9/site-packages (from datasets) (0.17.2)\n",
      "Requirement already satisfied: tqdm>=4.62.1 in /Users/eenzeenee/opt/anaconda3/lib/python3.9/site-packages (from datasets) (4.64.0)\n",
      "Requirement already satisfied: pandas in /Users/eenzeenee/opt/anaconda3/lib/python3.9/site-packages (from datasets) (1.4.2)\n",
      "Requirement already satisfied: xxhash in /Users/eenzeenee/opt/anaconda3/lib/python3.9/site-packages (from datasets) (3.3.0)\n",
      "Requirement already satisfied: multiprocess in /Users/eenzeenee/opt/anaconda3/lib/python3.9/site-packages (from datasets) (0.70.15)\n",
      "Requirement already satisfied: requests>=2.19.0 in /Users/eenzeenee/opt/anaconda3/lib/python3.9/site-packages (from datasets) (2.27.1)\n",
      "Requirement already satisfied: pyarrow>=8.0.0 in /Users/eenzeenee/opt/anaconda3/lib/python3.9/site-packages (from datasets) (13.0.0)\n",
      "Requirement already satisfied: packaging in /Users/eenzeenee/opt/anaconda3/lib/python3.9/site-packages (from datasets) (21.3)\n",
      "Requirement already satisfied: pyyaml>=5.1 in /Users/eenzeenee/opt/anaconda3/lib/python3.9/site-packages (from datasets) (6.0)\n",
      "Requirement already satisfied: numpy>=1.17 in /Users/eenzeenee/opt/anaconda3/lib/python3.9/site-packages (from datasets) (1.21.5)\n",
      "Requirement already satisfied: fsspec[http]<2023.9.0,>=2023.1.0 in /Users/eenzeenee/opt/anaconda3/lib/python3.9/site-packages (from datasets) (2023.6.0)\n",
      "Requirement already satisfied: charset-normalizer<3.0,>=2.0 in /Users/eenzeenee/opt/anaconda3/lib/python3.9/site-packages (from aiohttp->datasets) (2.0.4)\n",
      "Requirement already satisfied: async-timeout<5.0,>=4.0.0a3 in /Users/eenzeenee/opt/anaconda3/lib/python3.9/site-packages (from aiohttp->datasets) (4.0.1)\n",
      "Requirement already satisfied: aiosignal>=1.1.2 in /Users/eenzeenee/opt/anaconda3/lib/python3.9/site-packages (from aiohttp->datasets) (1.2.0)\n",
      "Requirement already satisfied: attrs>=17.3.0 in /Users/eenzeenee/opt/anaconda3/lib/python3.9/site-packages (from aiohttp->datasets) (21.4.0)\n",
      "Requirement already satisfied: multidict<7.0,>=4.5 in /Users/eenzeenee/opt/anaconda3/lib/python3.9/site-packages (from aiohttp->datasets) (5.2.0)\n",
      "Requirement already satisfied: yarl<2.0,>=1.0 in /Users/eenzeenee/opt/anaconda3/lib/python3.9/site-packages (from aiohttp->datasets) (1.6.3)\n",
      "Requirement already satisfied: frozenlist>=1.1.1 in /Users/eenzeenee/opt/anaconda3/lib/python3.9/site-packages (from aiohttp->datasets) (1.2.0)\n",
      "Requirement already satisfied: typing-extensions>=3.6.5 in /Users/eenzeenee/opt/anaconda3/lib/python3.9/site-packages (from async-timeout<5.0,>=4.0.0a3->aiohttp->datasets) (4.1.1)\n",
      "Requirement already satisfied: filelock in /Users/eenzeenee/opt/anaconda3/lib/python3.9/site-packages (from huggingface-hub<1.0.0,>=0.14.0->datasets) (3.6.0)\n",
      "Requirement already satisfied: pyparsing!=3.0.5,>=2.0.2 in /Users/eenzeenee/opt/anaconda3/lib/python3.9/site-packages (from packaging->datasets) (3.0.4)\n",
      "Requirement already satisfied: idna<4,>=2.5 in /Users/eenzeenee/opt/anaconda3/lib/python3.9/site-packages (from requests>=2.19.0->datasets) (3.3)\n",
      "Requirement already satisfied: urllib3<1.27,>=1.21.1 in /Users/eenzeenee/opt/anaconda3/lib/python3.9/site-packages (from requests>=2.19.0->datasets) (1.26.9)\n",
      "Requirement already satisfied: certifi>=2017.4.17 in /Users/eenzeenee/opt/anaconda3/lib/python3.9/site-packages (from requests>=2.19.0->datasets) (2021.10.8)\n",
      "Requirement already satisfied: python-dateutil>=2.8.1 in /Users/eenzeenee/opt/anaconda3/lib/python3.9/site-packages (from pandas->datasets) (2.8.2)\n",
      "Requirement already satisfied: pytz>=2020.1 in /Users/eenzeenee/opt/anaconda3/lib/python3.9/site-packages (from pandas->datasets) (2021.3)\n",
      "Requirement already satisfied: six>=1.5 in /Users/eenzeenee/opt/anaconda3/lib/python3.9/site-packages (from python-dateutil>=2.8.1->pandas->datasets) (1.16.0)\n",
      "Requirement already satisfied: huggingface_hub in /Users/eenzeenee/opt/anaconda3/lib/python3.9/site-packages (0.17.2)\n",
      "Requirement already satisfied: filelock in /Users/eenzeenee/opt/anaconda3/lib/python3.9/site-packages (from huggingface_hub) (3.6.0)\n",
      "Requirement already satisfied: requests in /Users/eenzeenee/opt/anaconda3/lib/python3.9/site-packages (from huggingface_hub) (2.27.1)\n",
      "Requirement already satisfied: fsspec in /Users/eenzeenee/opt/anaconda3/lib/python3.9/site-packages (from huggingface_hub) (2023.6.0)\n",
      "Requirement already satisfied: typing-extensions>=3.7.4.3 in /Users/eenzeenee/opt/anaconda3/lib/python3.9/site-packages (from huggingface_hub) (4.1.1)\n",
      "Requirement already satisfied: packaging>=20.9 in /Users/eenzeenee/opt/anaconda3/lib/python3.9/site-packages (from huggingface_hub) (21.3)\n",
      "Requirement already satisfied: tqdm>=4.42.1 in /Users/eenzeenee/opt/anaconda3/lib/python3.9/site-packages (from huggingface_hub) (4.64.0)\n",
      "Requirement already satisfied: pyyaml>=5.1 in /Users/eenzeenee/opt/anaconda3/lib/python3.9/site-packages (from huggingface_hub) (6.0)\n",
      "Requirement already satisfied: pyparsing!=3.0.5,>=2.0.2 in /Users/eenzeenee/opt/anaconda3/lib/python3.9/site-packages (from packaging>=20.9->huggingface_hub) (3.0.4)\n",
      "Requirement already satisfied: idna<4,>=2.5 in /Users/eenzeenee/opt/anaconda3/lib/python3.9/site-packages (from requests->huggingface_hub) (3.3)\n",
      "Requirement already satisfied: charset-normalizer~=2.0.0 in /Users/eenzeenee/opt/anaconda3/lib/python3.9/site-packages (from requests->huggingface_hub) (2.0.4)\n",
      "Requirement already satisfied: urllib3<1.27,>=1.21.1 in /Users/eenzeenee/opt/anaconda3/lib/python3.9/site-packages (from requests->huggingface_hub) (1.26.9)\n",
      "Requirement already satisfied: certifi>=2017.4.17 in /Users/eenzeenee/opt/anaconda3/lib/python3.9/site-packages (from requests->huggingface_hub) (2021.10.8)\n"
     ]
    }
   ],
   "source": [
    "!pip install ftfy regex tqdm\n",
    "!pip install git+https://github.com/openai/CLIP.git\n",
    "!pip install datasets\n",
    "!pip install --upgrade huggingface_hub"
   ]
  },
  {
   "cell_type": "markdown",
   "metadata": {},
   "source": [
    "# Dataset 전처리"
   ]
  },
  {
   "cell_type": "code",
   "execution_count": 2,
   "metadata": {},
   "outputs": [],
   "source": [
    "m = './dataset/clip/TL/json/M/47.json'"
   ]
  },
  {
   "cell_type": "code",
   "execution_count": 26,
   "metadata": {},
   "outputs": [],
   "source": [
    "import json\n",
    "\n",
    "with open(m, 'r', encoding='cp949') as f:\n",
    "    m_new = json.load(f)"
   ]
  },
  {
   "cell_type": "code",
   "execution_count": 69,
   "metadata": {},
   "outputs": [],
   "source": [
    "import re\n",
    "pattern = r'\\([^)]*\\)'\n",
    "\n",
    "def sum_feature(m_new):\n",
    "\n",
    "    feature_list = ['face', 'hairstyle', 'eyes', 'nose', 'mouth']\n",
    "    new_feature = ''\n",
    "    for f in feature_list:\n",
    "        new_feature += m_new['description'][f]['description']\n",
    "        new_feature += ' '\n",
    "        new_feature = re.sub(pattern=pattern, repl='', string=new_feature)\n",
    "        new_feature = new_feature.strip()\n",
    "    return new_feature"
   ]
  },
  {
   "cell_type": "code",
   "execution_count": 34,
   "metadata": {},
   "outputs": [],
   "source": [
    "import os \n",
    "json_path = './dataset/clip/TL/json/M'\n",
    "json_list = os.listdir(json_path)\n",
    "image_path = './dataset/clip/TL/Images/montage'\n",
    "image_list = os.listdir(image_path)"
   ]
  },
  {
   "cell_type": "code",
   "execution_count": 43,
   "metadata": {},
   "outputs": [],
   "source": [
    "new_json_list = []\n",
    "for j in json_list:\n",
    "    new_json_list.append(int(j.split('.')[0]))\n",
    "\n",
    "new_image_list = []\n",
    "for i in image_list:\n",
    "    new_image_list.append(int(i.split('.')[0]))"
   ]
  },
  {
   "cell_type": "code",
   "execution_count": 45,
   "metadata": {},
   "outputs": [
    {
     "data": {
      "text/plain": [
       "330"
      ]
     },
     "execution_count": 45,
     "metadata": {},
     "output_type": "execute_result"
    }
   ],
   "source": [
    "len(set(new_json_list).intersection(set(new_image_list)))"
   ]
  },
  {
   "cell_type": "code",
   "execution_count": 47,
   "metadata": {},
   "outputs": [],
   "source": [
    "id_list = list(set(new_json_list).intersection(set(new_image_list)))"
   ]
  },
  {
   "cell_type": "code",
   "execution_count": 72,
   "metadata": {},
   "outputs": [],
   "source": [
    "import pandas as pd\n",
    "\n",
    "image_root = './dataset/clip/TL/Images/montage/'\n",
    "cap_root = './dataset/clip/TL/json/M/'\n",
    "\n",
    "img_list = []\n",
    "cap_list = []\n",
    "\n",
    "for id in id_list:\n",
    "    img_list.append(image_root+str(id)+'.png')\n",
    "\n",
    "    with open(cap_root+str(id)+'.json', 'r', encoding='cp949') as f:\n",
    "        cap = json.load(f)\n",
    "        cap = sum_feature(cap)\n",
    "    cap_list.append(cap)\n"
   ]
  },
  {
   "cell_type": "code",
   "execution_count": 78,
   "metadata": {},
   "outputs": [],
   "source": [
    "all_list = [img_list, cap_list]\n",
    "\n",
    "import pandas as pd\n",
    "\n",
    "df = pd.DataFrame(all_list)"
   ]
  },
  {
   "cell_type": "code",
   "execution_count": 81,
   "metadata": {},
   "outputs": [],
   "source": [
    "df = df.T"
   ]
  },
  {
   "cell_type": "code",
   "execution_count": 83,
   "metadata": {},
   "outputs": [],
   "source": [
    "df.columns = ['image', 'caption']"
   ]
  },
  {
   "cell_type": "code",
   "execution_count": 85,
   "metadata": {},
   "outputs": [],
   "source": [
    "df.to_csv('./dataset/clip/TL/img_cap.csv')"
   ]
  },
  {
   "cell_type": "code",
   "execution_count": null,
   "metadata": {},
   "outputs": [],
   "source": [
    "# image = Image.open(os.path.join(*[self.img_root, self.images[idx]])).convert('RGBA')\n",
    "# try:\n",
    "#     new_image = Image.new(\"RGBA\", image.size, \"WHITE\")\n",
    "#     new_image.paste(image, (0, 0), image)\n",
    "# except:\n",
    "#     new_image = image"
   ]
  },
  {
   "cell_type": "code",
   "execution_count": 39,
   "metadata": {},
   "outputs": [],
   "source": [
    "import pandas as pd\n",
    "\n",
    "data = pd.read_csv('./clip_finetuning/img_cap.csv', index_col=0)\n"
   ]
  },
  {
   "cell_type": "code",
   "execution_count": 40,
   "metadata": {},
   "outputs": [],
   "source": [
    "data.image= data.image.map(lambda x: './clip_finetuning/Images/montage/' + x.split('/Users/eenzeenee/Downloads/clip_finetuning/Images/')[-1])"
   ]
  },
  {
   "cell_type": "code",
   "execution_count": 45,
   "metadata": {},
   "outputs": [
    {
     "data": {
      "text/plain": [
       "'/Users/eenzeenee/Downloads/clip_finetuning/Images/montage/8196.png'"
      ]
     },
     "execution_count": 45,
     "metadata": {},
     "output_type": "execute_result"
    }
   ],
   "source": [
    "data['image'][0]"
   ]
  },
  {
   "cell_type": "code",
   "execution_count": 46,
   "metadata": {},
   "outputs": [],
   "source": [
    "data.to_csv('./clip_finetuning/img_cap.csv')"
   ]
  },
  {
   "cell_type": "code",
   "execution_count": 47,
   "metadata": {},
   "outputs": [
    {
     "data": {
      "text/html": [
       "<div>\n",
       "<style scoped>\n",
       "    .dataframe tbody tr th:only-of-type {\n",
       "        vertical-align: middle;\n",
       "    }\n",
       "\n",
       "    .dataframe tbody tr th {\n",
       "        vertical-align: top;\n",
       "    }\n",
       "\n",
       "    .dataframe thead th {\n",
       "        text-align: right;\n",
       "    }\n",
       "</style>\n",
       "<table border=\"1\" class=\"dataframe\">\n",
       "  <thead>\n",
       "    <tr style=\"text-align: right;\">\n",
       "      <th></th>\n",
       "      <th>image</th>\n",
       "      <th>caption</th>\n",
       "    </tr>\n",
       "  </thead>\n",
       "  <tbody>\n",
       "    <tr>\n",
       "      <th>0</th>\n",
       "      <td>/Users/eenzeenee/Downloads/clip_finetuning/Ima...</td>\n",
       "      <td>계란형으로 보통 크기의 얼굴인데 앞머리가 이마를 많이 덮고 있다. V자형 턱이 짧고...</td>\n",
       "    </tr>\n",
       "    <tr>\n",
       "      <th>1</th>\n",
       "      <td>/Users/eenzeenee/Downloads/clip_finetuning/Ima...</td>\n",
       "      <td>긴 보통 크기의 얼굴이다. 앞머리가 내려져 정확한 유형은 알 수 없지만  오른쪽 이...</td>\n",
       "    </tr>\n",
       "    <tr>\n",
       "      <th>2</th>\n",
       "      <td>/Users/eenzeenee/Downloads/clip_finetuning/Ima...</td>\n",
       "      <td>적당한 볼살. 앞머리가 살짝 가려져있어 이마라인을 정확히 알 수 없지만 보이는 부분...</td>\n",
       "    </tr>\n",
       "    <tr>\n",
       "      <th>3</th>\n",
       "      <td>/Users/eenzeenee/Downloads/clip_finetuning/Ima...</td>\n",
       "      <td>사각형의 긴 얼굴형에 M자형의 넓은 이마를 가지고 있다. 이마의 골격이 발달되어 눈...</td>\n",
       "    </tr>\n",
       "    <tr>\n",
       "      <th>4</th>\n",
       "      <td>/Users/eenzeenee/Downloads/clip_finetuning/Ima...</td>\n",
       "      <td>왼쪽 볼살이 있는 계란형 같은 얼굴이다. 턱이  둥근형의 느낌이 더 강하다, 앞광대...</td>\n",
       "    </tr>\n",
       "    <tr>\n",
       "      <th>...</th>\n",
       "      <td>...</td>\n",
       "      <td>...</td>\n",
       "    </tr>\n",
       "    <tr>\n",
       "      <th>325</th>\n",
       "      <td>/Users/eenzeenee/Downloads/clip_finetuning/Ima...</td>\n",
       "      <td>턱선은 살짝 각져서 날렵하게 둥근 턱끝으로 부드럽게 이어지는 하관인데 매우 갸름해 ...</td>\n",
       "    </tr>\n",
       "    <tr>\n",
       "      <th>326</th>\n",
       "      <td>/Users/eenzeenee/Downloads/clip_finetuning/Ima...</td>\n",
       "      <td>얼굴과 턱이 전체적으로 둥근형이며 이마는 앞머리로 인해 알 수 없다. 볼살이 굉장히...</td>\n",
       "    </tr>\n",
       "    <tr>\n",
       "      <th>327</th>\n",
       "      <td>/Users/eenzeenee/Downloads/clip_finetuning/Ima...</td>\n",
       "      <td>얼굴은 긴편이며 얼굴이 비대칭이다. 오른쪽은 턱선이 살짝 각져있으며 왼쪽은 턱선이 ...</td>\n",
       "    </tr>\n",
       "    <tr>\n",
       "      <th>328</th>\n",
       "      <td>/Users/eenzeenee/Downloads/clip_finetuning/Ima...</td>\n",
       "      <td>얼굴은 계란형이고    이마는 앞머리로 인해 알 수 없다. 그러나 오른쪽 이마 모서...</td>\n",
       "    </tr>\n",
       "    <tr>\n",
       "      <th>329</th>\n",
       "      <td>/Users/eenzeenee/Downloads/clip_finetuning/Ima...</td>\n",
       "      <td>광대가 발달되어 있고 얼굴골격이 큰 둥근형의 얼굴이다. 아래턱도 넓은 곡선으로 둥근...</td>\n",
       "    </tr>\n",
       "  </tbody>\n",
       "</table>\n",
       "<p>330 rows × 2 columns</p>\n",
       "</div>"
      ],
      "text/plain": [
       "                                                 image  \\\n",
       "0    /Users/eenzeenee/Downloads/clip_finetuning/Ima...   \n",
       "1    /Users/eenzeenee/Downloads/clip_finetuning/Ima...   \n",
       "2    /Users/eenzeenee/Downloads/clip_finetuning/Ima...   \n",
       "3    /Users/eenzeenee/Downloads/clip_finetuning/Ima...   \n",
       "4    /Users/eenzeenee/Downloads/clip_finetuning/Ima...   \n",
       "..                                                 ...   \n",
       "325  /Users/eenzeenee/Downloads/clip_finetuning/Ima...   \n",
       "326  /Users/eenzeenee/Downloads/clip_finetuning/Ima...   \n",
       "327  /Users/eenzeenee/Downloads/clip_finetuning/Ima...   \n",
       "328  /Users/eenzeenee/Downloads/clip_finetuning/Ima...   \n",
       "329  /Users/eenzeenee/Downloads/clip_finetuning/Ima...   \n",
       "\n",
       "                                               caption  \n",
       "0    계란형으로 보통 크기의 얼굴인데 앞머리가 이마를 많이 덮고 있다. V자형 턱이 짧고...  \n",
       "1    긴 보통 크기의 얼굴이다. 앞머리가 내려져 정확한 유형은 알 수 없지만  오른쪽 이...  \n",
       "2    적당한 볼살. 앞머리가 살짝 가려져있어 이마라인을 정확히 알 수 없지만 보이는 부분...  \n",
       "3    사각형의 긴 얼굴형에 M자형의 넓은 이마를 가지고 있다. 이마의 골격이 발달되어 눈...  \n",
       "4    왼쪽 볼살이 있는 계란형 같은 얼굴이다. 턱이  둥근형의 느낌이 더 강하다, 앞광대...  \n",
       "..                                                 ...  \n",
       "325  턱선은 살짝 각져서 날렵하게 둥근 턱끝으로 부드럽게 이어지는 하관인데 매우 갸름해 ...  \n",
       "326  얼굴과 턱이 전체적으로 둥근형이며 이마는 앞머리로 인해 알 수 없다. 볼살이 굉장히...  \n",
       "327  얼굴은 긴편이며 얼굴이 비대칭이다. 오른쪽은 턱선이 살짝 각져있으며 왼쪽은 턱선이 ...  \n",
       "328  얼굴은 계란형이고    이마는 앞머리로 인해 알 수 없다. 그러나 오른쪽 이마 모서...  \n",
       "329  광대가 발달되어 있고 얼굴골격이 큰 둥근형의 얼굴이다. 아래턱도 넓은 곡선으로 둥근...  \n",
       "\n",
       "[330 rows x 2 columns]"
      ]
     },
     "execution_count": 47,
     "metadata": {},
     "output_type": "execute_result"
    }
   ],
   "source": [
    "data"
   ]
  },
  {
   "cell_type": "code",
   "execution_count": 105,
   "metadata": {},
   "outputs": [],
   "source": [
    "import os\n",
    "\n",
    "image_idxs = os.listdir('./clip_finetuning/Images/montage')"
   ]
  },
  {
   "cell_type": "code",
   "execution_count": 106,
   "metadata": {},
   "outputs": [
    {
     "data": {
      "text/html": [
       "<div>\n",
       "<style scoped>\n",
       "    .dataframe tbody tr th:only-of-type {\n",
       "        vertical-align: middle;\n",
       "    }\n",
       "\n",
       "    .dataframe tbody tr th {\n",
       "        vertical-align: top;\n",
       "    }\n",
       "\n",
       "    .dataframe thead th {\n",
       "        text-align: right;\n",
       "    }\n",
       "</style>\n",
       "<table border=\"1\" class=\"dataframe\">\n",
       "  <thead>\n",
       "    <tr style=\"text-align: right;\">\n",
       "      <th></th>\n",
       "      <th>image</th>\n",
       "      <th>caption</th>\n",
       "    </tr>\n",
       "  </thead>\n",
       "  <tbody>\n",
       "    <tr>\n",
       "      <th>0</th>\n",
       "      <td>/Users/eenzeenee/Downloads/clip_finetuning/Ima...</td>\n",
       "      <td>계란형으로 보통 크기의 얼굴인데 앞머리가 이마를 많이 덮고 있다. V자형 턱이 짧고...</td>\n",
       "    </tr>\n",
       "    <tr>\n",
       "      <th>1</th>\n",
       "      <td>/Users/eenzeenee/Downloads/clip_finetuning/Ima...</td>\n",
       "      <td>긴 보통 크기의 얼굴이다. 앞머리가 내려져 정확한 유형은 알 수 없지만  오른쪽 이...</td>\n",
       "    </tr>\n",
       "    <tr>\n",
       "      <th>2</th>\n",
       "      <td>/Users/eenzeenee/Downloads/clip_finetuning/Ima...</td>\n",
       "      <td>적당한 볼살. 앞머리가 살짝 가려져있어 이마라인을 정확히 알 수 없지만 보이는 부분...</td>\n",
       "    </tr>\n",
       "    <tr>\n",
       "      <th>3</th>\n",
       "      <td>/Users/eenzeenee/Downloads/clip_finetuning/Ima...</td>\n",
       "      <td>사각형의 긴 얼굴형에 M자형의 넓은 이마를 가지고 있다. 이마의 골격이 발달되어 눈...</td>\n",
       "    </tr>\n",
       "    <tr>\n",
       "      <th>4</th>\n",
       "      <td>/Users/eenzeenee/Downloads/clip_finetuning/Ima...</td>\n",
       "      <td>왼쪽 볼살이 있는 계란형 같은 얼굴이다. 턱이  둥근형의 느낌이 더 강하다, 앞광대...</td>\n",
       "    </tr>\n",
       "    <tr>\n",
       "      <th>...</th>\n",
       "      <td>...</td>\n",
       "      <td>...</td>\n",
       "    </tr>\n",
       "    <tr>\n",
       "      <th>325</th>\n",
       "      <td>/Users/eenzeenee/Downloads/clip_finetuning/Ima...</td>\n",
       "      <td>턱선은 살짝 각져서 날렵하게 둥근 턱끝으로 부드럽게 이어지는 하관인데 매우 갸름해 ...</td>\n",
       "    </tr>\n",
       "    <tr>\n",
       "      <th>326</th>\n",
       "      <td>/Users/eenzeenee/Downloads/clip_finetuning/Ima...</td>\n",
       "      <td>얼굴과 턱이 전체적으로 둥근형이며 이마는 앞머리로 인해 알 수 없다. 볼살이 굉장히...</td>\n",
       "    </tr>\n",
       "    <tr>\n",
       "      <th>327</th>\n",
       "      <td>/Users/eenzeenee/Downloads/clip_finetuning/Ima...</td>\n",
       "      <td>얼굴은 긴편이며 얼굴이 비대칭이다. 오른쪽은 턱선이 살짝 각져있으며 왼쪽은 턱선이 ...</td>\n",
       "    </tr>\n",
       "    <tr>\n",
       "      <th>328</th>\n",
       "      <td>/Users/eenzeenee/Downloads/clip_finetuning/Ima...</td>\n",
       "      <td>얼굴은 계란형이고    이마는 앞머리로 인해 알 수 없다. 그러나 오른쪽 이마 모서...</td>\n",
       "    </tr>\n",
       "    <tr>\n",
       "      <th>329</th>\n",
       "      <td>/Users/eenzeenee/Downloads/clip_finetuning/Ima...</td>\n",
       "      <td>광대가 발달되어 있고 얼굴골격이 큰 둥근형의 얼굴이다. 아래턱도 넓은 곡선으로 둥근...</td>\n",
       "    </tr>\n",
       "  </tbody>\n",
       "</table>\n",
       "<p>330 rows × 2 columns</p>\n",
       "</div>"
      ],
      "text/plain": [
       "                                                 image  \\\n",
       "0    /Users/eenzeenee/Downloads/clip_finetuning/Ima...   \n",
       "1    /Users/eenzeenee/Downloads/clip_finetuning/Ima...   \n",
       "2    /Users/eenzeenee/Downloads/clip_finetuning/Ima...   \n",
       "3    /Users/eenzeenee/Downloads/clip_finetuning/Ima...   \n",
       "4    /Users/eenzeenee/Downloads/clip_finetuning/Ima...   \n",
       "..                                                 ...   \n",
       "325  /Users/eenzeenee/Downloads/clip_finetuning/Ima...   \n",
       "326  /Users/eenzeenee/Downloads/clip_finetuning/Ima...   \n",
       "327  /Users/eenzeenee/Downloads/clip_finetuning/Ima...   \n",
       "328  /Users/eenzeenee/Downloads/clip_finetuning/Ima...   \n",
       "329  /Users/eenzeenee/Downloads/clip_finetuning/Ima...   \n",
       "\n",
       "                                               caption  \n",
       "0    계란형으로 보통 크기의 얼굴인데 앞머리가 이마를 많이 덮고 있다. V자형 턱이 짧고...  \n",
       "1    긴 보통 크기의 얼굴이다. 앞머리가 내려져 정확한 유형은 알 수 없지만  오른쪽 이...  \n",
       "2    적당한 볼살. 앞머리가 살짝 가려져있어 이마라인을 정확히 알 수 없지만 보이는 부분...  \n",
       "3    사각형의 긴 얼굴형에 M자형의 넓은 이마를 가지고 있다. 이마의 골격이 발달되어 눈...  \n",
       "4    왼쪽 볼살이 있는 계란형 같은 얼굴이다. 턱이  둥근형의 느낌이 더 강하다, 앞광대...  \n",
       "..                                                 ...  \n",
       "325  턱선은 살짝 각져서 날렵하게 둥근 턱끝으로 부드럽게 이어지는 하관인데 매우 갸름해 ...  \n",
       "326  얼굴과 턱이 전체적으로 둥근형이며 이마는 앞머리로 인해 알 수 없다. 볼살이 굉장히...  \n",
       "327  얼굴은 긴편이며 얼굴이 비대칭이다. 오른쪽은 턱선이 살짝 각져있으며 왼쪽은 턱선이 ...  \n",
       "328  얼굴은 계란형이고    이마는 앞머리로 인해 알 수 없다. 그러나 오른쪽 이마 모서...  \n",
       "329  광대가 발달되어 있고 얼굴골격이 큰 둥근형의 얼굴이다. 아래턱도 넓은 곡선으로 둥근...  \n",
       "\n",
       "[330 rows x 2 columns]"
      ]
     },
     "execution_count": 106,
     "metadata": {},
     "output_type": "execute_result"
    }
   ],
   "source": [
    "data"
   ]
  },
  {
   "cell_type": "code",
   "execution_count": 107,
   "metadata": {},
   "outputs": [
    {
     "name": "stdout",
     "output_type": "stream",
     "text": [
      "315\n"
     ]
    }
   ],
   "source": [
    "new_data = []\n",
    "cnt = 0\n",
    "\n",
    "for idx in image_idxs:\n",
    "    path = './clip_finetuning/Images/montage/' + idx\n",
    "    for i in range(len(data)):\n",
    "        if data.iloc[i, 0] == path:\n",
    "            new_data.append([path, data.iloc[i,1]])\n",
    "            cnt += 1\n",
    "\n",
    "print(cnt)\n",
    "\n",
    "    "
   ]
  },
  {
   "cell_type": "code",
   "execution_count": 108,
   "metadata": {},
   "outputs": [],
   "source": [
    "new_data = pd.DataFrame(new_data)\n",
    "new_data.columns = ['image', 'caption']\n",
    "new_data.to_csv('./clip_finetuning/data.csv')"
   ]
  },
  {
   "cell_type": "markdown",
   "metadata": {},
   "source": [
    "# clip finetuning"
   ]
  },
  {
   "cell_type": "code",
   "execution_count": 2,
   "metadata": {},
   "outputs": [],
   "source": [
    "import clip\n",
    "import torch\n",
    "from torch import nn\n",
    "from torch.utils.data import DataLoader\n",
    "import pandas as pd\n",
    "from torch import optim\n",
    "from tqdm import tqdm\n",
    "import argparse\n",
    "import os"
   ]
  },
  {
   "cell_type": "code",
   "execution_count": 3,
   "metadata": {},
   "outputs": [],
   "source": [
    "from PIL import Image\n",
    "from torch.utils.data import Dataset\n",
    "import os\n",
    "\n",
    "\n",
    "class ClipDataset(Dataset):\n",
    "    def __init__(self, df, preprocess, img_root):\n",
    "        self.images = df[\"image\"].tolist()\n",
    "        self.caption = df[\"caption\"].tolist()\n",
    "        self.preprocess = preprocess\n",
    "        self.img_root = img_root\n",
    "\n",
    "    def __len__(self):\n",
    "        return len(self.caption)\n",
    "\n",
    "    def __getitem__(self, idx):\n",
    "\n",
    "        new_image = Image.open(os.path.join(*[self.img_root, self.images[idx]]))\n",
    "        images = self.preprocess(new_image) # preprocess from clip.load\n",
    "        caption = self.caption[idx]\n",
    "        return images, caption"
   ]
  },
  {
   "cell_type": "code",
   "execution_count": 4,
   "metadata": {},
   "outputs": [],
   "source": [
    "def convert_models_to_fp32(model):\n",
    "    for p in model.parameters():\n",
    "        p.data = p.data.float()\n",
    "        p.grad.data = p.grad.data.float()"
   ]
  },
  {
   "cell_type": "code",
   "execution_count": 5,
   "metadata": {},
   "outputs": [],
   "source": [
    "CSV_PATH = './clip_finetuning/data.csv'\n",
    "IMG_ROOT = './clip_finetuning/Images/'\n",
    "BATCH_SIZE = 16\n",
    "EPOCH = 5\n",
    "SAVE_PATH = './clip_finetuning/result'"
   ]
  },
  {
   "cell_type": "code",
   "execution_count": 6,
   "metadata": {},
   "outputs": [
    {
     "name": "stderr",
     "output_type": "stream",
     "text": [
      "1 Epoch: 100%|██████████| 19/19 [03:16<00:00, 11.34s/it, Total Loss=2.77]"
     ]
    },
    {
     "name": "stdout",
     "output_type": "stream",
     "text": [
      "Saving model at the end of 1 Epoch...\n",
      "Model saved at /Users/eenzeenee/Downloads/clip_finetuning/result/model_01.pt\n"
     ]
    },
    {
     "name": "stderr",
     "output_type": "stream",
     "text": [
      "1 Epoch: 100%|██████████| 19/19 [03:19<00:00, 10.52s/it, Total Loss=2.77]\n"
     ]
    },
    {
     "name": "stdout",
     "output_type": "stream",
     "text": [
      "Saving model at the end of 2 Epoch...\n",
      "Model saved at /Users/eenzeenee/Downloads/clip_finetuning/result/model_02.pt\n"
     ]
    },
    {
     "name": "stderr",
     "output_type": "stream",
     "text": [
      "2 Epoch: 100%|██████████| 19/19 [03:45<00:00, 11.86s/it, Total Loss=2.77]\n",
      "3 Epoch: 100%|██████████| 19/19 [03:53<00:00, 11.70s/it, Total Loss=2.78]"
     ]
    },
    {
     "name": "stdout",
     "output_type": "stream",
     "text": [
      "Saving model at the end of 3 Epoch...\n",
      "Model saved at /Users/eenzeenee/Downloads/clip_finetuning/result/model_03.pt\n"
     ]
    },
    {
     "name": "stderr",
     "output_type": "stream",
     "text": [
      "3 Epoch: 100%|██████████| 19/19 [03:56<00:00, 12.43s/it, Total Loss=2.78]\n"
     ]
    },
    {
     "name": "stdout",
     "output_type": "stream",
     "text": [
      "Saving model at the end of 4 Epoch...\n",
      "Model saved at /Users/eenzeenee/Downloads/clip_finetuning/result/model_04.pt\n"
     ]
    },
    {
     "name": "stderr",
     "output_type": "stream",
     "text": [
      "4 Epoch: 100%|██████████| 19/19 [04:08<00:00, 13.07s/it, Total Loss=2.75]\n",
      "5 Epoch: 100%|██████████| 19/19 [04:03<00:00, 12.89s/it, Total Loss=2.77]"
     ]
    },
    {
     "name": "stdout",
     "output_type": "stream",
     "text": [
      "Saving model at the end of 5 Epoch...\n",
      "Model saved at /Users/eenzeenee/Downloads/clip_finetuning/result/model_05.pt\n"
     ]
    }
   ],
   "source": [
    "device = \"cuda\" if torch.cuda.is_available() else \"cpu\"  # If using GPU then use mixed precision training.\n",
    "model, preprocess = clip.load(\"ViT-B/32\", device=device, jit=False)  # Must set jit=False for training\n",
    "if device == \"cpu\":\n",
    "    model.float()\n",
    "else:\n",
    "    clip.model.convert_weights(model)  # Actually this line is unnecessary since clip by default already on float16\n",
    "\n",
    "df = pd.read_csv(CSV_PATH)\n",
    "\n",
    "dataset = ClipDataset(df, preprocess, IMG_ROOT)\n",
    "train_dataloader = DataLoader(dataset, batch_size=BATCH_SIZE, shuffle=True, drop_last=True) # Define your own dataloader\n",
    "\n",
    "loss_img = nn.CrossEntropyLoss()\n",
    "loss_txt = nn.CrossEntropyLoss()\n",
    "\n",
    "# optimizer = optim.AdamW(model.parameters(), lr=1e-4, eps=1e-8, weight_decay=1e-2)\n",
    "# Params used from paper, the lr is smaller, more safe for fine tuning to new dataset\n",
    "optimizer = optim.Adam(model.parameters(), lr=5e-5, betas=(0.9, 0.98), eps=1e-6, weight_decay=0.2)\n",
    "\n",
    "model.train()\n",
    "for epoch in range(EPOCH):\n",
    "    progress = tqdm(total=len(train_dataloader), desc=f'{epoch+1} Epoch')\n",
    "    for batch in train_dataloader:\n",
    "        optimizer.zero_grad()\n",
    "\n",
    "        list_image, list_txt = batch  # list_images is list of image in numpy array(np.uint8), or list of PIL images\n",
    "\n",
    "        # omit the Image.fromarray if the images already in PIL format,\n",
    "        # change this line to images=list_image if using preprocess inside the dataset class\n",
    "        images = list_image.to(device)\n",
    "        texts = clip.tokenize(list_txt, truncate=True).to(device)\n",
    "\n",
    "        logits_per_image, logits_per_text = model(images, texts)\n",
    "\n",
    "        ground_truth = torch.arange(BATCH_SIZE, dtype=torch.long, device=device)\n",
    "\n",
    "        # img_loss = loss_img(logits_per_image, ground_truth)\n",
    "        # img_loss.backward()\n",
    "        total_loss = (loss_img(logits_per_image, ground_truth) + loss_txt(logits_per_text, ground_truth)) / 2\n",
    "        total_loss.backward()\n",
    "        if device == \"cpu\":\n",
    "            optimizer.step()\n",
    "        else:\n",
    "            convert_models_to_fp32(model)\n",
    "            optimizer.step()\n",
    "            clip.model.convert_weights(model)\n",
    "\n",
    "        progress.update()\n",
    "        progress.set_postfix({'Total Loss': float(total_loss)})\n",
    "\n",
    "    print(f'Saving model at the end of {epoch+1} Epoch...')\n",
    "    torch.save({\n",
    "        'epoch': epoch,\n",
    "        'model_state_dict': model.state_dict(),\n",
    "        'optimizer_state_dict': optimizer.state_dict(),\n",
    "        'loss': total_loss,\n",
    "    }, os.path.join(*[SAVE_PATH, f\"model_{str(epoch+1).zfill(2)}.pt\"]))\n",
    "    print(f'Model saved at {os.path.join(*[SAVE_PATH, f\"model_{str(epoch+1).zfill(2)}.pt\"])}')"
   ]
  },
  {
   "cell_type": "markdown",
   "metadata": {},
   "source": [
    "# Retrieval"
   ]
  },
  {
   "cell_type": "code",
   "execution_count": 8,
   "metadata": {},
   "outputs": [],
   "source": [
    "import clip\n",
    "import torch\n",
    "from PIL import Image\n",
    "\n",
    "device = 'cuda' if torch.cuda.is_available() else 'cpu'\n",
    "model, preprocess = clip.load(\"ViT-B/32\",device=device,jit=False) #Must set jit=False for training\n",
    "checkpoint = torch.load(\"/Users/eenzeenee/Downloads/clip_finetuning/result/model_04.pt\")"
   ]
  },
  {
   "cell_type": "code",
   "execution_count": 11,
   "metadata": {},
   "outputs": [
    {
     "data": {
      "image/png": "[encoded data removed]",
      "text/plain": [
       "<Figure size 432x288 with 1 Axes>"
      ]
     },
     "metadata": {
      "needs_background": "light"
     },
     "output_type": "display_data"
    }
   ],
   "source": [
    "import matplotlib.pyplot as plt\n",
    "from PIL import Image\n",
    "import numpy as np\n",
    "sample = './clip_finetuning/Images/montage/82.png'\n",
    "sample_img = Image.open(sample)\n",
    "\n",
    "img_array = np.asarray(sample_img)\n",
    "plt.imshow(img_array)\n",
    "plt.show()\n",
    "\n",
    "# 얼굴 유형이 둥글긴 하나 턱유형에서 약간 끝 부분에 각진 부분이 있어보인다"
   ]
  },
  {
   "cell_type": "code",
   "execution_count": 9,
   "metadata": {},
   "outputs": [
    {
     "name": "stdout",
     "output_type": "stream",
     "text": [
      "Label probs - finetuned-CLIP: [[0.35915533 0.32585344 0.31499118]]\n",
      "Label probs - Vanilla-CLIP: [[0.26886383 0.16938798 0.56174827]]\n"
     ]
    }
   ],
   "source": [
    "model.load_state_dict(checkpoint['model_state_dict'])\n",
    "\n",
    "image = Image.open(sample).convert('RGBA')\n",
    "new_image = Image.new(\"RGBA\", image.size, \"WHITE\")\n",
    "new_image.paste(image, (0, 0), image)\n",
    "image = preprocess(new_image).unsqueeze(0).to(device)\n",
    "\n",
    "text = clip.tokenize(['둥근 얼굴에 턱이 각진 유형이다.', '긴 얼굴형에 턱이 뾰족하다.', '계란형의 얼굴로 각진 부분이 없다.']).to(device)\n",
    "\n",
    "with torch.no_grad():\n",
    "    image_feature = model.encode_image(image)\n",
    "    text_features = model.encode_text(text)\n",
    "    logit_per_image, logit_per_text = model(image, text)\n",
    "    probs = logit_per_image.softmax(dim=-1).cpu().numpy()\n",
    "\n",
    "print(\"Label probs - finetuned-CLIP:\", probs)\n",
    "\n",
    "model, preprocess = clip.load(\"ViT-B/32\",device=device,jit=False) #Must set jit=False for training\n",
    "\n",
    "# Use these 3 lines if you use default model setting(not training setting) of the clip.\n",
    "# For example, if you set context_length to 100 since your string is very long during training,\n",
    "# then assign 100 to checkpoint['model_state_dict'][\"context_length\"]\n",
    "\n",
    "image = Image.open(sample).convert('RGBA')\n",
    "new_image = Image.new(\"RGBA\", image.size, \"WHITE\")\n",
    "new_image.paste(image, (0, 0), image)\n",
    "image = preprocess(new_image).unsqueeze(0).to(device)\n",
    "text = clip.tokenize(['둥근 얼굴에 턱이 각진 유형이다.', '긴 얼굴형에 턱이 뾰족하다.', '계란형의 얼굴로 각진 부분이 없다.']).to(device)\n",
    "\n",
    "\n",
    "with torch.no_grad():\n",
    "    image_feature = model.encode_image(image)\n",
    "    text_features = model.encode_text(text)\n",
    "    logit_per_image, logit_per_text = model(image, text)\n",
    "    probs = logit_per_image.softmax(dim=-1).cpu().numpy()\n",
    "print(\"Label probs - Vanilla-CLIP:\", probs)"
   ]
  }
 ],
 "metadata": {
  "kernelspec": {
   "display_name": "base",
   "language": "python",
   "name": "python3"
  },
  "language_info": {
   "codemirror_mode": {
    "name": "ipython",
    "version": 3
   },
   "file_extension": ".py",
   "mimetype": "text/x-python",
   "name": "python",
   "nbconvert_exporter": "python",
   "pygments_lexer": "ipython3",
   "version": "3.9.12"
  },
  "orig_nbformat": 4
 },
 "nbformat": 4,
 "nbformat_minor": 2
}
